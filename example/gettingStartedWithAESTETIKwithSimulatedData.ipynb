{
 "cells": [
  {
   "cell_type": "markdown",
   "id": "44fd7c1b-3cf2-4768-b2b5-4d72536036c7",
   "metadata": {},
   "source": [
    "## AESTETIK with simulated spatial transcritpomics data\n",
    "\n",
    "In this notebook we apply AESTETIK on simulated spatial transcriptomics data.\n",
    "\n",
    "You can find the code for generating spatial transcriptomics data [here](https://github.com/ratschlab/simulate_spatial_transcriptomics_tool). https://github.com/ratschlab/simulate_spatial_transcriptomics_tool\n",
    "\n",
    "In summary:\n",
    "\n",
    "> We adapted the simulation approach suggested in [5] by introducing spatial structure in the experiment. Briefly, relying on simulated ground truth labels, we simulate transcriptomics and morphology modalities, allowing partial observation of true clusters within each modality individually. However, combining both modalities enables the identification of all clusters. Spatial coordinates are incorporated by sorting the ground truth in spatial space.\n",
    "\n",
    "Please refer to our original publication for more information and examples."
   ]
  },
  {
   "cell_type": "markdown",
   "id": "ee5d5862-c0a4-4659-b590-361c836ed79a",
   "metadata": {},
   "source": [
    "Now, we will load the data using scanpy, perform clustering and visualize the results."
   ]
  },
  {
   "cell_type": "code",
   "execution_count": null,
   "id": "15e05709-1d86-4770-a564-cd780ca259a9",
   "metadata": {},
   "outputs": [],
   "source": [
    "import os\n",
    "os.chdir('../')"
   ]
  },
  {
   "cell_type": "code",
   "execution_count": null,
   "id": "cf2627e0-b238-486b-b942-b19c036cbf23",
   "metadata": {},
   "outputs": [],
   "source": [
    "from sklearn.cluster import KMeans\n",
    "from aestetik import AESTETIK\n",
    "import squidpy as sq\n",
    "import scanpy as sc\n",
    "import numpy as np"
   ]
  },
  {
   "cell_type": "code",
   "execution_count": null,
   "id": "b69a0485-2a23-4358-a41e-7602f09d24ac",
   "metadata": {},
   "outputs": [],
   "source": [
    "adata = sc.read(\"test_data/A.h5ad\")\n",
    "adata"
   ]
  },
  {
   "cell_type": "code",
   "execution_count": null,
   "id": "0402923c-2f9b-4ce3-8b4c-b7df64dffdd0",
   "metadata": {},
   "outputs": [],
   "source": [
    "adata.obsm[\"X_pca\"].shape"
   ]
  },
  {
   "cell_type": "code",
   "execution_count": null,
   "id": "2a4914fb-04f7-4e0a-a1a7-d1e70eb538c4",
   "metadata": {},
   "outputs": [],
   "source": [
    "adata.obsm[\"image\"].shape"
   ]
  },
  {
   "cell_type": "code",
   "execution_count": null,
   "id": "7865ca9e-850a-46c3-8365-77307bd757dd",
   "metadata": {},
   "outputs": [],
   "source": [
    "adata.obsm[\"combined\"] = np.concatenate((adata.obsm[\"X_pca\"], adata.obsm[\"image\"]), axis=1)\n",
    "adata.obsm[\"combined\"].shape"
   ]
  },
  {
   "cell_type": "markdown",
   "id": "2fcecf02-ecb3-46bf-9276-d74d6ab5be91",
   "metadata": {},
   "source": [
    "Data explanation:\n",
    "- `X_pca` contains the top 15 PCs computed on the \"expression\" matrix\n",
    "- `image` contains the top 15 PCs computed on the \"image features\"\n",
    "- `x_array`, `y_array`, `x_pixel`, `y_pixel` are the coordinates in array and pixel space."
   ]
  },
  {
   "cell_type": "markdown",
   "id": "8d385721-c664-4233-a83e-4d85bd577d19",
   "metadata": {},
   "source": [
    "### Clustering"
   ]
  },
  {
   "cell_type": "code",
   "execution_count": null,
   "id": "fc7b3b11-858f-4679-bdb6-7808e3a18d3a",
   "metadata": {},
   "outputs": [],
   "source": [
    "#based only on transcriptomics\n",
    "sc.pp.neighbors(adata, use_rep=\"X_pca\")\n",
    "sc.tl.umap(adata)\n",
    "\n",
    "adata.obs[\"transcriptomics_kmeans\"] = KMeans(5).fit_predict(adata.obsm[\"X_pca\"]).astype(str)\n",
    "sc.pl.umap(adata, color=[\"ground_truth\", \n",
    "                         \"transcriptomics_kmeans\"])"
   ]
  },
  {
   "cell_type": "code",
   "execution_count": null,
   "id": "e949dbae-fa48-465d-8e39-623206025248",
   "metadata": {},
   "outputs": [],
   "source": [
    "#based only on morphology\n",
    "sc.pp.neighbors(adata, use_rep=\"image\")\n",
    "sc.tl.umap(adata)\n",
    "\n",
    "adata.obs[\"morphology_kmeans\"] = KMeans(5).fit_predict(adata.obsm[\"image\"]).astype(str)\n",
    "sc.pl.umap(adata, color=[\"ground_truth\", \n",
    "                         \"morphology_kmeans\"])"
   ]
  },
  {
   "cell_type": "code",
   "execution_count": null,
   "id": "d334ed51-de86-46bb-b7ed-e2043cfc1b6f",
   "metadata": {},
   "outputs": [],
   "source": [
    "#based only on combined\n",
    "sc.pp.neighbors(adata, use_rep=\"combined\")\n",
    "sc.tl.umap(adata)\n",
    "\n",
    "adata.obs[\"combined_kmeans\"] = KMeans(5).fit_predict(adata.obsm[\"combined\"]).astype(str)\n",
    "sc.pl.umap(adata, color=[\"ground_truth\", \n",
    "                         \"combined_kmeans\"])"
   ]
  },
  {
   "cell_type": "code",
   "execution_count": null,
   "id": "63a253cc-1765-41b6-a818-839bc0e282ce",
   "metadata": {},
   "outputs": [],
   "source": [
    "sc.pl.umap(adata, color=[\"ground_truth\", \n",
    "                         \"transcriptomics_kmeans\",\n",
    "                         \"morphology_kmeans\",\n",
    "                         \"combined_kmeans\"])"
   ]
  },
  {
   "cell_type": "code",
   "execution_count": null,
   "id": "f41bed8c-22e6-42c9-b00c-d4b86cd5db81",
   "metadata": {},
   "outputs": [],
   "source": [
    "sq.pl.spatial_scatter(adata, color=[\"ground_truth\", \n",
    "                         \"transcriptomics_kmeans\",\n",
    "                         \"morphology_kmeans\",\n",
    "                         \"combined_kmeans\"], \n",
    "                      size=0.5)"
   ]
  },
  {
   "cell_type": "markdown",
   "id": "c9482ffd-cd85-4963-b28e-40a05c1cd61d",
   "metadata": {},
   "source": [
    "### Now, we apply AESTETIK. Please find more infromation about AESTETIK [here](https://github.com/ratschlab/aestetik)."
   ]
  },
  {
   "cell_type": "code",
   "execution_count": null,
   "id": "71333531-5efd-425f-99c1-3e2018f8637e",
   "metadata": {},
   "outputs": [],
   "source": [
    "# we set the transcriptomics modality\n",
    "adata.obsm[\"X_pca_transcriptomics\"] = adata.obsm[\"X_pca\"][:,0:15]\n",
    "# we set the morphology modality\n",
    "adata.obsm[\"X_pca_morphology\"] = adata.obsm[\"image\"][:,0:15]"
   ]
  },
  {
   "cell_type": "code",
   "execution_count": null,
   "id": "a3c4c7ed-a61d-4688-98b6-8d83e174a961",
   "metadata": {},
   "outputs": [],
   "source": [
    "parameters =    {'morphology_weight': 1.5,\n",
    "                 'refine_cluster': 1,\n",
    "                 'window_size': 3,\n",
    "                 'clustering_method': \"kmeans\"\n",
    "                }\n",
    "parameters"
   ]
  },
  {
   "cell_type": "code",
   "execution_count": null,
   "id": "c01df3a3-4651-4a43-b940-da466b3eb2a0",
   "metadata": {},
   "outputs": [],
   "source": [
    "model = AESTETIK(nCluster=adata.obs.ground_truth.unique().size,\n",
    "                 **parameters)"
   ]
  },
  {
   "cell_type": "code",
   "execution_count": null,
   "id": "51ce9707-ba99-4616-9610-bb3252911d90",
   "metadata": {},
   "outputs": [],
   "source": [
    "model.fit_predict(X=adata, cluster=True)"
   ]
  },
  {
   "cell_type": "code",
   "execution_count": null,
   "id": "c3a0c4b9-5e26-4e12-b284-18aa9eaf9492",
   "metadata": {},
   "outputs": [],
   "source": [
    "#based on AESTETIK representation\n",
    "sc.pp.neighbors(adata, use_rep=\"AESTETIK\")\n",
    "sc.tl.umap(adata)\n",
    "\n",
    "sc.pl.umap(adata, color=[\"ground_truth\", \n",
    "                         \"AESTETIK_cluster\"])"
   ]
  },
  {
   "cell_type": "code",
   "execution_count": null,
   "id": "2b3ebe7a-57e9-4e46-b064-390224a9136c",
   "metadata": {},
   "outputs": [],
   "source": [
    "sq.pl.spatial_scatter(adata, color=[\"ground_truth\",\n",
    "                         \"combined_kmeans\",\n",
    "                         \"AESTETIK_cluster\"], \n",
    "                      ncols=5,\n",
    "                      wspace=0,\n",
    "                      dpi=150,\n",
    "                      size=0.5)"
   ]
  },
  {
   "cell_type": "code",
   "execution_count": null,
   "id": "835f657b-35a7-4e85-a303-c1999aa0f1cc",
   "metadata": {},
   "outputs": [],
   "source": [
    "sq.pl.spatial_scatter(adata, color=[\"ground_truth\",\n",
    "                                    \"transcriptomics_kmeans\",\n",
    "                                     \"morphology_kmeans\",\n",
    "                                     \"combined_kmeans\",\n",
    "                                     \"AESTETIK_cluster\"], \n",
    "                                  ncols=5,\n",
    "                                  wspace=0,\n",
    "                                  dpi=150,\n",
    "                                  size=0.5,\n",
    "                                  save=\"AESTETIK_clustering.png\"\n",
    "                     )"
   ]
  }
 ],
 "metadata": {
  "kernelspec": {
   "display_name": "aestetik-dev",
   "language": "python",
   "name": "python3"
  },
  "language_info": {
   "codemirror_mode": {
    "name": "ipython",
    "version": 3
   },
   "file_extension": ".py",
   "mimetype": "text/x-python",
   "name": "python",
   "nbconvert_exporter": "python",
   "pygments_lexer": "ipython3",
   "version": "3.9.18"
  }
 },
 "nbformat": 4,
 "nbformat_minor": 5
}
